{
 "cells": [
  {
   "cell_type": "markdown",
   "metadata": {
    "papermill": {
     "duration": 0.008508,
     "end_time": "2021-01-27T12:06:06.751213",
     "exception": false,
     "start_time": "2021-01-27T12:06:06.742705",
     "status": "completed"
    },
    "tags": []
   },
   "source": [
    "# **This Notebook is a baseline on how to handle the hdf5 data and correctly submit. There is no complex feature selection, catagorical data or multi-site data included, which you will most certianly need to obtain a good score. Good luck!**"
   ]
  },
  {
   "cell_type": "code",
   "execution_count": 1,
   "metadata": {
    "_cell_guid": "b1076dfc-b9ad-4769-8c92-a6c4dae69d19",
    "_uuid": "8f2839f25d086af736a60e9eeb907d3b93b6e0e5",
    "execution": {
     "iopub.execute_input": "2021-01-27T12:06:06.774457Z",
     "iopub.status.busy": "2021-01-27T12:06:06.773776Z",
     "iopub.status.idle": "2021-01-27T12:06:15.013606Z",
     "shell.execute_reply": "2021-01-27T12:06:15.012875Z"
    },
    "papermill": {
     "duration": 8.25496,
     "end_time": "2021-01-27T12:06:15.013913",
     "exception": false,
     "start_time": "2021-01-27T12:06:06.758953",
     "status": "completed"
    },
    "tags": []
   },
   "outputs": [],
   "source": [
    "import h5py\n",
    "import numpy as np\n",
    "import pandas as pd\n",
    "import tensorflow as tf\n",
    "import sys\n",
    "import time\n",
    "import sklearn"
   ]
  },
  {
   "cell_type": "code",
   "execution_count": 2,
   "metadata": {
    "execution": {
     "iopub.execute_input": "2021-01-27T12:06:15.043405Z",
     "iopub.status.busy": "2021-01-27T12:06:15.042567Z",
     "iopub.status.idle": "2021-01-27T12:06:15.153066Z",
     "shell.execute_reply": "2021-01-27T12:06:15.152484Z"
    },
    "papermill": {
     "duration": 0.129824,
     "end_time": "2021-01-27T12:06:15.153205",
     "exception": false,
     "start_time": "2021-01-27T12:06:15.023381",
     "status": "completed"
    },
    "tags": []
   },
   "outputs": [],
   "source": [
    "pheno_train = pd.read_csv('../input/abide/comp_data/pheno_train.csv')\n",
    "pheno_test = pd.read_csv('../input/abide/comp_data/pheno_test.csv')\n",
    "ss = pd.read_csv('../input/abide/comp_data/sample_submission.csv')\n",
    "func = h5py.File('../input/abide/comp_data/abide.hdf5', 'r')\n",
    "\n",
    "# adjust according to submission format\n",
    "pheno_train['DX_GROUP'] = pheno_train['DX_GROUP'] - 1.0"
   ]
  },
  {
   "cell_type": "code",
   "execution_count": 3,
   "metadata": {
    "execution": {
     "iopub.execute_input": "2021-01-27T12:06:15.187448Z",
     "iopub.status.busy": "2021-01-27T12:06:15.186639Z",
     "iopub.status.idle": "2021-01-27T12:06:15.190437Z",
     "shell.execute_reply": "2021-01-27T12:06:15.189766Z"
    },
    "papermill": {
     "duration": 0.02925,
     "end_time": "2021-01-27T12:06:15.190549",
     "exception": false,
     "start_time": "2021-01-27T12:06:15.161299",
     "status": "completed"
    },
    "tags": []
   },
   "outputs": [],
   "source": [
    "def get_data_train(data, pheno, derivative):\n",
    "    X = []\n",
    "    y = []\n",
    "    i = 0\n",
    "    total = pheno.shape[0]\n",
    "    for row in pheno.iterrows():\n",
    "        file_id, dx_group = row[1]['FILE_ID'], row[1]['DX_GROUP']\n",
    "        connectivity = data['patients'][file_id][derivative][()]\n",
    "        X.append(connectivity)\n",
    "        y.append(dx_group)\n",
    "        sys.stdout.write(\"\\r{:.2f}%>\".format(i/total))\n",
    "        sys.stdout.flush()\n",
    "        i += 1\n",
    "        \n",
    "    X = np.array(X).astype(np.float32)\n",
    "    y = np.array(y).astype(np.float32)\n",
    "    return X, y\n",
    "\n",
    "def get_data_test(data, pheno, derivative):\n",
    "    X_test = []\n",
    "    sub_ids = []\n",
    "    j = 0\n",
    "    total = pheno.shape[0]\n",
    "    for row in pheno.iterrows():\n",
    "        file_id, sub_id = row[1]['FILE_ID'], row[1]['SUB_ID']\n",
    "        connectivity = data['patients'][file_id][derivative][()]\n",
    "        X_test.append(connectivity)\n",
    "        sub_ids.append(sub_id)\n",
    "        sys.stdout.write(\"\\r{:.2f}%>\".format(j/total))\n",
    "        sys.stdout.flush()\n",
    "        j += 1\n",
    "        \n",
    "    X_test = np.array(X_test).astype(np.float32)\n",
    "    return X_test, sub_ids"
   ]
  },
  {
   "cell_type": "code",
   "execution_count": 4,
   "metadata": {
    "execution": {
     "iopub.execute_input": "2021-01-27T12:06:15.213934Z",
     "iopub.status.busy": "2021-01-27T12:06:15.213154Z",
     "iopub.status.idle": "2021-01-27T12:06:21.388126Z",
     "shell.execute_reply": "2021-01-27T12:06:21.387362Z"
    },
    "papermill": {
     "duration": 6.189419,
     "end_time": "2021-01-27T12:06:21.388279",
     "exception": false,
     "start_time": "2021-01-27T12:06:15.198860",
     "status": "completed"
    },
    "tags": []
   },
   "outputs": [
    {
     "name": "stdout",
     "output_type": "stream",
     "text": [
      "1.00%>"
     ]
    },
    {
     "data": {
      "text/plain": [
       "((931, 6670), (931,))"
      ]
     },
     "execution_count": 4,
     "metadata": {},
     "output_type": "execute_result"
    }
   ],
   "source": [
    "X, y = get_data_train(func, pheno_train, 'aal')\n",
    "X.shape, y.shape"
   ]
  },
  {
   "cell_type": "code",
   "execution_count": 5,
   "metadata": {
    "execution": {
     "iopub.execute_input": "2021-01-27T12:06:22.043539Z",
     "iopub.status.busy": "2021-01-27T12:06:22.042822Z",
     "iopub.status.idle": "2021-01-27T12:06:22.304038Z",
     "shell.execute_reply": "2021-01-27T12:06:22.303451Z"
    },
    "papermill": {
     "duration": 0.590341,
     "end_time": "2021-01-27T12:06:22.304161",
     "exception": false,
     "start_time": "2021-01-27T12:06:21.713820",
     "status": "completed"
    },
    "tags": []
   },
   "outputs": [
    {
     "name": "stdout",
     "output_type": "stream",
     "text": [
      "0.99%>"
     ]
    },
    {
     "data": {
      "text/plain": [
       "((104, 6670), 104)"
      ]
     },
     "execution_count": 5,
     "metadata": {},
     "output_type": "execute_result"
    }
   ],
   "source": [
    "X_test, sub_ids = get_data_test(func, pheno_test, 'aal')\n",
    "X_test.shape, len(sub_ids)"
   ]
  },
  {
   "cell_type": "code",
   "execution_count": 6,
   "metadata": {
    "execution": {
     "iopub.execute_input": "2021-01-27T12:06:23.038380Z",
     "iopub.status.busy": "2021-01-27T12:06:23.037577Z",
     "iopub.status.idle": "2021-01-27T12:11:52.339690Z",
     "shell.execute_reply": "2021-01-27T12:11:52.339069Z"
    },
    "papermill": {
     "duration": 329.673255,
     "end_time": "2021-01-27T12:11:52.339818",
     "exception": false,
     "start_time": "2021-01-27T12:06:22.666563",
     "status": "completed"
    },
    "tags": []
   },
   "outputs": [
    {
     "name": "stdout",
     "output_type": "stream",
     "text": [
      "Fold: 0, score: 0.6535326086956522\n",
      "Fold: 1, score: 0.6932573599240266\n",
      "Fold: 2, score: 0.6077705827937097\n",
      "Fold: 3, score: 0.6808905380333952\n",
      "Fold: 4, score: 0.7437258687258688\n",
      "Fold: 5, score: 0.651031894934334\n",
      "Fold: 6, score: 0.7078703703703703\n",
      "Fold: 7, score: 0.7574074074074074\n",
      "Fold: 8, score: 0.6875\n",
      "Fold: 9, score: 0.6796296296296298\n",
      "CPU times: user 7min 43s, sys: 11min 2s, total: 18min 45s\n",
      "Wall time: 5min 28s\n"
     ]
    }
   ],
   "source": [
    "%%time\n",
    "from sklearn.experimental import enable_hist_gradient_boosting\n",
    "from sklearn.ensemble import HistGradientBoostingClassifier as hgbc\n",
    "from sklearn.model_selection import KFold\n",
    "from sklearn.metrics import roc_auc_score\n",
    "import gc\n",
    "\n",
    "N_SPLITS = 10\n",
    "kf = KFold(n_splits=N_SPLITS)\n",
    "final_preds = np.zeros((X_test.shape[0], N_SPLITS))\n",
    "i = 0\n",
    "for tr_idx, val_idx in kf.split(X):\n",
    "    clf = hgbc(max_depth=6, max_leaf_nodes=25, verbose=0, max_iter=30)\n",
    "    clf.fit(X[tr_idx], y[tr_idx])\n",
    "    final_preds[:, i] = clf.predict_proba(X_test)[:, 1]\n",
    "    fold_preds = clf.predict_proba(X[val_idx])[:, 1]\n",
    "    print('Fold: {0}, score: {1}'.format(i, roc_auc_score(y[val_idx], fold_preds)))\n",
    "    del clf\n",
    "    gc.collect()\n",
    "    i += 1"
   ]
  },
  {
   "cell_type": "code",
   "execution_count": 7,
   "metadata": {
    "execution": {
     "iopub.execute_input": "2021-01-27T12:11:53.087969Z",
     "iopub.status.busy": "2021-01-27T12:11:53.087306Z",
     "iopub.status.idle": "2021-01-27T12:11:53.091144Z",
     "shell.execute_reply": "2021-01-27T12:11:53.090576Z"
    },
    "papermill": {
     "duration": 0.391771,
     "end_time": "2021-01-27T12:11:53.091278",
     "exception": false,
     "start_time": "2021-01-27T12:11:52.699507",
     "status": "completed"
    },
    "tags": []
   },
   "outputs": [],
   "source": [
    "preds = np.mean(final_preds, axis=1)\n",
    "sub = pd.DataFrame({'SUB_ID': sub_ids, 'preds': preds})"
   ]
  },
  {
   "cell_type": "code",
   "execution_count": 8,
   "metadata": {
    "execution": {
     "iopub.execute_input": "2021-01-27T12:11:53.848465Z",
     "iopub.status.busy": "2021-01-27T12:11:53.847654Z",
     "iopub.status.idle": "2021-01-27T12:11:53.870134Z",
     "shell.execute_reply": "2021-01-27T12:11:53.870667Z"
    },
    "papermill": {
     "duration": 0.405596,
     "end_time": "2021-01-27T12:11:53.870830",
     "exception": false,
     "start_time": "2021-01-27T12:11:53.465234",
     "status": "completed"
    },
    "tags": []
   },
   "outputs": [
    {
     "data": {
      "text/html": [
       "<div>\n",
       "<style scoped>\n",
       "    .dataframe tbody tr th:only-of-type {\n",
       "        vertical-align: middle;\n",
       "    }\n",
       "\n",
       "    .dataframe tbody tr th {\n",
       "        vertical-align: top;\n",
       "    }\n",
       "\n",
       "    .dataframe thead th {\n",
       "        text-align: right;\n",
       "    }\n",
       "</style>\n",
       "<table border=\"1\" class=\"dataframe\">\n",
       "  <thead>\n",
       "    <tr style=\"text-align: right;\">\n",
       "      <th></th>\n",
       "      <th>SUB_ID</th>\n",
       "      <th>DX_GROUP</th>\n",
       "    </tr>\n",
       "  </thead>\n",
       "  <tbody>\n",
       "    <tr>\n",
       "      <th>0</th>\n",
       "      <td>51260</td>\n",
       "      <td>0.795921</td>\n",
       "    </tr>\n",
       "    <tr>\n",
       "      <th>1</th>\n",
       "      <td>50184</td>\n",
       "      <td>0.281604</td>\n",
       "    </tr>\n",
       "    <tr>\n",
       "      <th>2</th>\n",
       "      <td>51306</td>\n",
       "      <td>0.549330</td>\n",
       "    </tr>\n",
       "    <tr>\n",
       "      <th>3</th>\n",
       "      <td>50818</td>\n",
       "      <td>0.633983</td>\n",
       "    </tr>\n",
       "    <tr>\n",
       "      <th>4</th>\n",
       "      <td>51491</td>\n",
       "      <td>0.420823</td>\n",
       "    </tr>\n",
       "    <tr>\n",
       "      <th>...</th>\n",
       "      <td>...</td>\n",
       "      <td>...</td>\n",
       "    </tr>\n",
       "    <tr>\n",
       "      <th>99</th>\n",
       "      <td>50408</td>\n",
       "      <td>0.745693</td>\n",
       "    </tr>\n",
       "    <tr>\n",
       "      <th>100</th>\n",
       "      <td>50212</td>\n",
       "      <td>0.430002</td>\n",
       "    </tr>\n",
       "    <tr>\n",
       "      <th>101</th>\n",
       "      <td>51492</td>\n",
       "      <td>0.661661</td>\n",
       "    </tr>\n",
       "    <tr>\n",
       "      <th>102</th>\n",
       "      <td>50514</td>\n",
       "      <td>0.575077</td>\n",
       "    </tr>\n",
       "    <tr>\n",
       "      <th>103</th>\n",
       "      <td>50048</td>\n",
       "      <td>0.466944</td>\n",
       "    </tr>\n",
       "  </tbody>\n",
       "</table>\n",
       "<p>104 rows × 2 columns</p>\n",
       "</div>"
      ],
      "text/plain": [
       "     SUB_ID  DX_GROUP\n",
       "0     51260  0.795921\n",
       "1     50184  0.281604\n",
       "2     51306  0.549330\n",
       "3     50818  0.633983\n",
       "4     51491  0.420823\n",
       "..      ...       ...\n",
       "99    50408  0.745693\n",
       "100   50212  0.430002\n",
       "101   51492  0.661661\n",
       "102   50514  0.575077\n",
       "103   50048  0.466944\n",
       "\n",
       "[104 rows x 2 columns]"
      ]
     },
     "execution_count": 8,
     "metadata": {},
     "output_type": "execute_result"
    }
   ],
   "source": [
    "# just in case to assert order\n",
    "almost_final_sub = ss.merge(sub, on='SUB_ID', how='left')\n",
    "ss['DX_GROUP'] = almost_final_sub['preds']\n",
    "ss # final sub"
   ]
  },
  {
   "cell_type": "code",
   "execution_count": 9,
   "metadata": {
    "execution": {
     "iopub.execute_input": "2021-01-27T12:11:54.628056Z",
     "iopub.status.busy": "2021-01-27T12:11:54.627328Z",
     "iopub.status.idle": "2021-01-27T12:11:54.905825Z",
     "shell.execute_reply": "2021-01-27T12:11:54.905187Z"
    },
    "papermill": {
     "duration": 0.669829,
     "end_time": "2021-01-27T12:11:54.905985",
     "exception": false,
     "start_time": "2021-01-27T12:11:54.236156",
     "status": "completed"
    },
    "tags": []
   },
   "outputs": [],
   "source": [
    "# dont forget correct submission type\n",
    "ss['SUB_ID'] = ss['SUB_ID'].map(str)\n",
    "ss.to_csv('first_submission_abide.csv', index=False)"
   ]
  }
 ],
 "metadata": {
  "kernelspec": {
   "display_name": "Python 3 (ipykernel)",
   "language": "python",
   "name": "python3"
  },
  "language_info": {
   "codemirror_mode": {
    "name": "ipython",
    "version": 3
   },
   "file_extension": ".py",
   "mimetype": "text/x-python",
   "name": "python",
   "nbconvert_exporter": "python",
   "pygments_lexer": "ipython3",
   "version": "3.10.0"
  },
  "papermill": {
   "duration": 353.860273,
   "end_time": "2021-01-27T12:11:55.389192",
   "environment_variables": {},
   "exception": null,
   "input_path": "__notebook__.ipynb",
   "output_path": "__notebook__.ipynb",
   "parameters": {},
   "start_time": "2021-01-27T12:06:01.528919",
   "version": "2.1.0"
  }
 },
 "nbformat": 4,
 "nbformat_minor": 4
}
