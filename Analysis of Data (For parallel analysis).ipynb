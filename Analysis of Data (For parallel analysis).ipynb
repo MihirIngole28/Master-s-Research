{
 "cells": [
  {
   "cell_type": "markdown",
   "id": "d49be423",
   "metadata": {},
   "source": [
    "## Turn the below block format to code to download the dataset instead of loading."
   ]
  },
  {
   "cell_type": "raw",
   "id": "23c61493",
   "metadata": {},
   "source": [
    "#!pip install --upgrade nilearn\n",
    "\n",
    "from nilearn.datasets import fetch_abide_pcp\n",
    "# Fetch the full data and update phenotypic data and cross_validation\n",
    "abide = fetch_abide_pcp(derivatives = ['rois_cc400'], pipeline = 'cpac', quality_checked = True, band_pass_filtering=True, global_signal_regression=True)\n",
    "\n",
    "y = abide.phenotypic['DX_GROUP']"
   ]
  },
  {
   "cell_type": "code",
   "execution_count": 14,
   "id": "93b714d5",
   "metadata": {},
   "outputs": [],
   "source": [
    "import numpy as np\n",
    "from numpy import save, load\n",
    "import pandas as pd"
   ]
  },
  {
   "cell_type": "code",
   "execution_count": 15,
   "id": "4a69dab8",
   "metadata": {},
   "outputs": [],
   "source": [
    "abide_loaded = load('abide_dataset.npy',allow_pickle=True)\n",
    "y_loaded = load('labels.npy',allow_pickle=True)"
   ]
  },
  {
   "cell_type": "code",
   "execution_count": 16,
   "id": "73cf18e0",
   "metadata": {},
   "outputs": [
    {
     "data": {
      "text/plain": [
       "array([[  5.082729, -40.521883, -21.505631, ...,   0.759471,  -5.055464,\n",
       "         27.221723],\n",
       "       [ 10.479726, -84.880032, -22.945819, ..., -14.720305,  -7.839907,\n",
       "         37.897781],\n",
       "       [ 14.91764 , -61.384571,   6.72392 , ..., -21.880409,   3.970264,\n",
       "         23.669556],\n",
       "       ...,\n",
       "       [-11.431354,   2.802429,  22.527916, ...,  16.719741,  21.719688,\n",
       "        -16.200414],\n",
       "       [ -3.560037, -17.077907,  26.847713, ...,   2.540888,  20.526403,\n",
       "         21.627552],\n",
       "       [-10.92564 ,   1.194464,  12.987941, ...,  -5.763522,  -1.975043,\n",
       "         27.467608]])"
      ]
     },
     "execution_count": 16,
     "metadata": {},
     "output_type": "execute_result"
    }
   ],
   "source": [
    "abide_loaded[100]"
   ]
  },
  {
   "cell_type": "code",
   "execution_count": 22,
   "id": "c55447fd",
   "metadata": {},
   "outputs": [],
   "source": [
    "classASD = []\n",
    "classTC = []\n",
    "for idx, val in enumerate(y_loaded):\n",
    "    if val == 1:\n",
    "        classASD.append(idx)\n",
    "    elif val == 2:\n",
    "        classTC.append(idx)"
   ]
  },
  {
   "cell_type": "code",
   "execution_count": 23,
   "id": "b4d34eab",
   "metadata": {},
   "outputs": [
    {
     "data": {
      "text/plain": [
       "403"
      ]
     },
     "execution_count": 23,
     "metadata": {},
     "output_type": "execute_result"
    }
   ],
   "source": [
    "len(classASD)"
   ]
  },
  {
   "cell_type": "code",
   "execution_count": 13,
   "id": "383d8a97",
   "metadata": {},
   "outputs": [
    {
     "data": {
      "text/plain": [
       "468"
      ]
     },
     "execution_count": 13,
     "metadata": {},
     "output_type": "execute_result"
    }
   ],
   "source": [
    "len(classTC)"
   ]
  },
  {
   "cell_type": "code",
   "execution_count": 16,
   "id": "e4314910",
   "metadata": {},
   "outputs": [
    {
     "name": "stdout",
     "output_type": "stream",
     "text": [
      "{196, 296, 232, 202, 236, 78, 206, 176, 124, 146, 116, 246, 152, 316}\n"
     ]
    }
   ],
   "source": [
    "#Checking all possible timestamps in the ABIDE dataset\n",
    "\n",
    "timeSeriesTemp = []\n",
    "for t in range(871):\n",
    "    x,_ = abide_loaded[t].shape\n",
    "    timeSeriesTemp.append(x)\n",
    "    \n",
    "print(set(timeSeriesTemp))"
   ]
  },
  {
   "cell_type": "code",
   "execution_count": 3,
   "id": "42670fa4",
   "metadata": {},
   "outputs": [],
   "source": [
    "subject = abide_loaded[1].transpose()"
   ]
  },
  {
   "cell_type": "code",
   "execution_count": 4,
   "id": "7c9bf16a",
   "metadata": {},
   "outputs": [],
   "source": [
    "subjectDf = pd.DataFrame(subject)"
   ]
  },
  {
   "cell_type": "code",
   "execution_count": 5,
   "id": "b22d3cce",
   "metadata": {},
   "outputs": [],
   "source": [
    "subjectDf.to_csv(\"subject.csv\")"
   ]
  },
  {
   "cell_type": "code",
   "execution_count": 6,
   "id": "6618bd3b",
   "metadata": {},
   "outputs": [],
   "source": [
    "measure = 'correlation'\n",
    "y_loaded[y_loaded==2] = 0\n",
    "\n",
    "from nilearn.connectome import ConnectivityMeasure\n",
    "from nilearn.connectome import sym_matrix_to_vec\n",
    "\n",
    "conn_est = ConnectivityMeasure(kind = measure)\n",
    "conn_matrices = conn_est.fit_transform(abide_loaded)\n",
    "X = sym_matrix_to_vec(conn_matrices)"
   ]
  },
  {
   "cell_type": "code",
   "execution_count": 7,
   "id": "1ddb22ae",
   "metadata": {},
   "outputs": [
    {
     "data": {
      "text/plain": [
       "(196, 392)"
      ]
     },
     "execution_count": 7,
     "metadata": {},
     "output_type": "execute_result"
    }
   ],
   "source": [
    "subject.transpose().shape"
   ]
  },
  {
   "cell_type": "code",
   "execution_count": 8,
   "id": "1709381f",
   "metadata": {},
   "outputs": [],
   "source": [
    "testSubject = subject.transpose().reshape((1,196,392))"
   ]
  },
  {
   "cell_type": "code",
   "execution_count": 9,
   "id": "b4db6392",
   "metadata": {},
   "outputs": [
    {
     "data": {
      "text/plain": [
       "array([[  0.691704, -18.008571,  -7.052016, ...,   1.554768,   8.043631,\n",
       "        -10.343742],\n",
       "       [ -0.737872,  -6.90305 , -19.585725, ...,   3.48684 ,   6.738022,\n",
       "        -14.943327],\n",
       "       [ -0.848048,  10.9649  , -32.101433, ...,   2.080575,   1.30907 ,\n",
       "        -17.717947],\n",
       "       ...,\n",
       "       [ -5.981295,  22.543741,  28.55845 , ...,   1.231438,  -9.311216,\n",
       "          9.526979],\n",
       "       [-13.428189,  22.898106,  16.550055, ...,  -1.523113,  -7.508318,\n",
       "          3.425275],\n",
       "       [-15.824785,  13.590912,   2.490937, ...,  -2.473327,  -3.977564,\n",
       "         -2.174389]])"
      ]
     },
     "execution_count": 9,
     "metadata": {},
     "output_type": "execute_result"
    }
   ],
   "source": [
    "testSubject[0]"
   ]
  },
  {
   "cell_type": "code",
   "execution_count": 10,
   "id": "6ff84f93",
   "metadata": {},
   "outputs": [],
   "source": [
    "conn_est = ConnectivityMeasure(kind = measure)\n",
    "conn_matrices = conn_est.fit_transform(testSubject)\n",
    "X = sym_matrix_to_vec(conn_matrices)"
   ]
  },
  {
   "cell_type": "code",
   "execution_count": 11,
   "id": "15c5ffc7",
   "metadata": {},
   "outputs": [
    {
     "data": {
      "text/plain": [
       "(1, 392, 392)"
      ]
     },
     "execution_count": 11,
     "metadata": {},
     "output_type": "execute_result"
    }
   ],
   "source": [
    "conn_matrices.shape"
   ]
  },
  {
   "cell_type": "code",
   "execution_count": 12,
   "id": "92ddb9df",
   "metadata": {},
   "outputs": [],
   "source": [
    "pd.DataFrame(conn_matrices[0]).to_csv(\"correlations.csv\")"
   ]
  },
  {
   "cell_type": "code",
   "execution_count": 28,
   "id": "7bdd3f38",
   "metadata": {},
   "outputs": [],
   "source": [
    "measure = 'correlation'\n",
    "y_loaded[y_loaded==2] = 0\n",
    "\n",
    "from nilearn.connectome import ConnectivityMeasure\n",
    "from nilearn.connectome import sym_matrix_to_vec"
   ]
  },
  {
   "cell_type": "code",
   "execution_count": 29,
   "id": "c710754f",
   "metadata": {},
   "outputs": [],
   "source": [
    "def create_corr_mat_and_raw_data_ASD():\n",
    "    for i in range(5):\n",
    "        idx = classASD[i]\n",
    "        subject = abide_loaded[idx].transpose()\n",
    "        subjectDf = pd.DataFrame(subject)\n",
    "        subjectDf.to_csv(f\"raw_data_ASD_{idx}.csv\")\n",
    "        testSubject = subject.transpose().reshape((1,196,392))\n",
    "        conn_est = ConnectivityMeasure(kind = measure)\n",
    "        conn_matrices = conn_est.fit_transform(testSubject)\n",
    "        X = sym_matrix_to_vec(conn_matrices)\n",
    "        pd.DataFrame(conn_matrices[0]).to_csv(f\"correlations_ASD_{idx}.csv\")"
   ]
  },
  {
   "cell_type": "code",
   "execution_count": 30,
   "id": "73e2502a",
   "metadata": {},
   "outputs": [],
   "source": [
    "def create_corr_mat_and_raw_data_TC():\n",
    "    for i in range(5):\n",
    "        idx = classTC[i]\n",
    "        subject = abide_loaded[idx].transpose()\n",
    "        subjectDf = pd.DataFrame(subject)\n",
    "        subjectDf.to_csv(f\"raw_data_TC_{idx}.csv\")\n",
    "        testSubject = subject.transpose().reshape((1,196,392))\n",
    "        conn_est = ConnectivityMeasure(kind = measure)\n",
    "        conn_matrices = conn_est.fit_transform(testSubject)\n",
    "        X = sym_matrix_to_vec(conn_matrices)\n",
    "        pd.DataFrame(conn_matrices[0]).to_csv(f\"correlations_TC_{idx}.csv\")"
   ]
  },
  {
   "cell_type": "code",
   "execution_count": 31,
   "id": "3a1f3807",
   "metadata": {},
   "outputs": [],
   "source": [
    "create_corr_mat_and_raw_data_ASD()\n"
   ]
  },
  {
   "cell_type": "code",
   "execution_count": 32,
   "id": "a6813092",
   "metadata": {},
   "outputs": [],
   "source": [
    "create_corr_mat_and_raw_data_TC()"
   ]
  },
  {
   "cell_type": "code",
   "execution_count": null,
   "id": "79aba371",
   "metadata": {},
   "outputs": [],
   "source": []
  }
 ],
 "metadata": {
  "kernelspec": {
   "display_name": "Python 3 (ipykernel)",
   "language": "python",
   "name": "python3"
  },
  "language_info": {
   "codemirror_mode": {
    "name": "ipython",
    "version": 3
   },
   "file_extension": ".py",
   "mimetype": "text/x-python",
   "name": "python",
   "nbconvert_exporter": "python",
   "pygments_lexer": "ipython3",
   "version": "3.10.0"
  }
 },
 "nbformat": 4,
 "nbformat_minor": 5
}
